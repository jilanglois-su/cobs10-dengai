{
 "cells": [
  {
   "cell_type": "markdown",
   "metadata": {},
   "source": [
    "# Problem description\n",
    "\n",
    "Your goal is to predict the `total_cases` label for each `(city, year, weekofyear)` in the test set. There are two cities, San Juan and Iquitos, with test data for each city spanning 5 and 3 years respectively. You will make one submission that contains predictions for both cities. The data for each `city` have been concatenated along with a city column indicating the source: `sj` for San Juan and `iq` for Iquitos. The test set is a pure future hold-out, meaning the test data are sequential and non-overlapping with any of the training data. Throughout, missing values have been filled as `NaN`s.\n",
    "\n",
    "## The features in this dataset\n",
    "You are provided the following set of information on a `(year, weekofyear)` timescale:\n",
    "\n",
    "(Where appropriate, units are provided as a `_unit` suffix on the feature name.)\n",
    "\n",
    "## City and date indicators\n",
    "- `city` – City abbreviations: sj for San Juan and iq for Iquitos\n",
    "- `week_start_date` – Date given in yyyy-mm-dd format\n",
    "## NOAA's GHCN daily climate data weather station measurements\n",
    "- `station_max_temp_c` – Maximum temperature\n",
    "- `station_min_temp_c` – Minimum temperature\n",
    "- `station_avg_temp_c` – Average temperature\n",
    "- `station_precip_mm` – Total precipitation\n",
    "- `station_diur_temp_rng_c` – Diurnal temperature range\n",
    "## PERSIANN satellite precipitation measurements (0.25x0.25 degree scale)\n",
    "- `precipitation_amt_mm` – Total precipitation\n",
    "## NOAA's NCEP Climate Forecast System Reanalysis measurements (0.5x0.5 degree scale)\n",
    "- `reanalysis_sat_precip_amt_mm` – Total precipitation\n",
    "- `reanalysis_dew_point_temp_k` – Mean dew point temperature\n",
    "- `reanalysis_air_temp_k` – Mean air temperature\n",
    "- `reanalysis_relative_humidity_percent` – Mean relative humidity\n",
    "- `reanalysis_specific_humidity_g_per_kg` – Mean specific humidity\n",
    "- `reanalysis_precip_amt_kg_per_m2` – Total precipitation\n",
    "- `reanalysis_max_air_temp_k` – Maximum air temperature\n",
    "- `reanalysis_min_air_temp_k` – Minimum air temperature\n",
    "- `reanalysis_avg_temp_k` – Average air temperature\n",
    "- `reanalysis_tdtr_k` – Diurnal temperature range\n",
    "## Satellite vegetation - Normalized difference vegetation index (NDVI) - NOAA's CDR Normalized Difference Vegetation Index (0.5x0.5 degree scale) measurements\n",
    "- `ndvi_se` – Pixel southeast of city centroid\n",
    "- `ndvi_sw` – Pixel southwest of city centroid\n",
    "- `ndvi_ne` – Pixel northeast of city centroid\n",
    "- `ndvi_nw` – Pixel northwest of city centroid"
   ]
  },
  {
   "cell_type": "code",
   "execution_count": null,
   "metadata": {},
   "outputs": [],
   "source": [
    "import sys\n",
    "sys.path.append('../')\n",
    "import pandas as pd\n",
    "import numpy as np\n",
    "import seaborn as sns\n",
    "import matplotlib.pyplot as plt\n",
    "import statsmodels.api as sm\n",
    "from src.d01_data.dengue_data_api import DengueDataApi, FEATURE_COLS, WEEK_START_DATE_COL, NDVI_COLS, \\\n",
    "PERSIANN_COLS, NOAA_NCEP_COLS, NOAA_GHCN_COLS, LOG_TRANSFORM"
   ]
  },
  {
   "cell_type": "markdown",
   "metadata": {},
   "source": [
    "# Exploratory Data Anaysis"
   ]
  },
  {
   "cell_type": "code",
   "execution_count": null,
   "metadata": {},
   "outputs": [],
   "source": [
    "dda = DengueDataApi()\n",
    "x_data = dda.get_features_train()\n",
    "y_data = dda.get_labels_train()\n",
    "city_arr = x_data.index.get_level_values('city').unique()"
   ]
  },
  {
   "cell_type": "code",
   "execution_count": null,
   "metadata": {},
   "outputs": [],
   "source": [
    "data = pd.concat([x_data, y_data], axis=1)\n",
    "data.head()"
   ]
  },
  {
   "cell_type": "code",
   "execution_count": null,
   "metadata": {},
   "outputs": [],
   "source": [
    "from scipy import signal\n",
    "dda = DengueDataApi()\n",
    "x1, x2, y1, y2 = dda.split_data(random=False)\n",
    "z1, z2, pct_var = dda.get_svd(x1, x2, num_components=5)"
   ]
  },
  {
   "cell_type": "code",
   "execution_count": null,
   "metadata": {},
   "outputs": [],
   "source": [
    "col = np.random.choice(NDVI_COLS + NOAA_NCEP_COLS + NOAA_GHCN_COLS)\n",
    "city = np.random.choice(city_arr)\n",
    "\n",
    "def variable_analysis(x_values, col):\n",
    "    fig, ax = plt.subplots(nrows=2, ncols=1, figsize=(8, 8))\n",
    "    f, Pxx_den = signal.welch(x_values)\n",
    "    ax[0].semilogy(f, Pxx_den)\n",
    "    ax[0].set_ylim([1e-3, 1e2])\n",
    "    ax[0].set_ylabel('Spectral Density')\n",
    "    ax[0].set_xlabel('$\\omega$')\n",
    "    ax[0].set_title(col)\n",
    "\n",
    "    t = x_values.index.get_level_values(WEEK_START_DATE_COL)\n",
    "\n",
    "    ax[1].plot(t, x_values)\n",
    "    x_smoothed = sm.nonparametric.lowess(x_values, t, frac=0.67, return_sorted=False)\n",
    "    ax[1].plot(t, x_smoothed)\n",
    "\n",
    "    plt.show()\n",
    "\n",
    "    spectral_den = pd.DataFrame(Pxx_den, columns=['power'], index=f)\n",
    "    spectral_den['t'] = 1./spectral_den.index.to_series()\n",
    "    return spectral_den.sort_values('power', ascending=False)\n",
    "\n",
    "variable_analysis(x1[col].loc[city], col).head()"
   ]
  },
  {
   "cell_type": "code",
   "execution_count": null,
   "metadata": {},
   "outputs": [],
   "source": [
    "variable_analysis(y1.loc[city].apply(lambda x: np.log(x+1)), '$\\\\log(y_t+1)$').head()"
   ]
  },
  {
   "cell_type": "markdown",
   "metadata": {},
   "source": [
    "## Spectral PCA\n",
    "\n",
    "what's the difference between scaling `'density'` and `'spectrum'`?"
   ]
  },
  {
   "cell_type": "code",
   "execution_count": null,
   "metadata": {},
   "outputs": [],
   "source": [
    "n = len(x1.loc[city])\n",
    "k = len(x1.columns)\n",
    "Pxy = None\n",
    "for i in range(k):\n",
    "    for j in range(k):\n",
    "        f, csd = signal.csd(x1.loc[city, x1.columns[i]], x1.loc[city, x1.columns[j]], scaling='density')\n",
    "        if Pxy is None:\n",
    "            Pxy = np.zeros([k, k, len(csd)])\n",
    "        Pxy[i, j, :] = np.abs(csd)"
   ]
  },
  {
   "cell_type": "code",
   "execution_count": null,
   "metadata": {},
   "outputs": [],
   "source": [
    "spectral_pca = np.zeros([Pxy.shape[2], k])\n",
    "for i in range(Pxy.shape[2]):\n",
    "    w, v = np.linalg.eig(Pxy[:, :, i])\n",
    "    spectral_pca[i, :] = list(reversed(sorted(np.abs(w))))\n",
    "spectral_pca = pd.DataFrame(spectral_pca, columns=['lmda%i' % i  for i in range(k)], index=f)"
   ]
  },
  {
   "cell_type": "code",
   "execution_count": null,
   "metadata": {},
   "outputs": [],
   "source": [
    "fig, ax = plt.subplots(nrows=1, ncols=1, figsize=(8, 3))\n",
    "ax.semilogy(spectral_pca['lmda0'])\n",
    "ax.set_title('$\\lambda_1(\\omega)$')\n",
    "ax.set_ylabel('Spectral Density')\n",
    "ax.set_xlabel('$\\omega$')\n",
    "plt.show()"
   ]
  },
  {
   "cell_type": "code",
   "execution_count": null,
   "metadata": {},
   "outputs": [],
   "source": [
    "spectral_pca['t'] = 1./spectral_pca.index.to_series()"
   ]
  },
  {
   "cell_type": "code",
   "execution_count": null,
   "metadata": {},
   "outputs": [],
   "source": [
    "spectral_pca[['t', 'lmda0']].sort_values('lmda0', ascending=False).head()"
   ]
  }
 ],
 "metadata": {
  "kernelspec": {
   "display_name": "Python 3 (ipykernel)",
   "language": "python",
   "name": "python3"
  },
  "language_info": {
   "codemirror_mode": {
    "name": "ipython",
    "version": 3
   },
   "file_extension": ".py",
   "mimetype": "text/x-python",
   "name": "python",
   "nbconvert_exporter": "python",
   "pygments_lexer": "ipython3",
   "version": "3.8.2"
  }
 },
 "nbformat": 4,
 "nbformat_minor": 1
}
