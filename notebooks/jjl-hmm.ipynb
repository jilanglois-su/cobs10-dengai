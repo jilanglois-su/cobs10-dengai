{
 "cells": [
  {
   "cell_type": "markdown",
   "id": "debb6fea",
   "metadata": {},
   "source": [
    "# Bayesian Inference in the Poisson HMM\n",
    "\n",
    "In this notebook we will fit a Hidden Markov Model. See the slides for Lap 7 ([Part 1](https://github.com/slinderman/stats271sp2021/blob/main/slides/lap7_hmms.pdf) and [Part 2](https://github.com/slinderman/stats271sp2021/blob/main/slides/lap7_hmms_b.pdf)) for more information on this model.\n",
    "\n",
    "Mathematically, let $\\mathbf{x}_t^{(v)} \\in \\mathbb{R}^{20}$ denote the combined features at time step $t$ of the $v$-th event, and let $\\mathbf{x}_{1:T_i}^{(v)} = (\\mathbf{x}_1^{(v)}, \\ldots, \\mathbf{x}_{T_v}^{(v)})$ denote the full sequence of features for the $v$-th event, where $T_v$ is the number of time steps. Likewise, let $z_{1:T_v}^{(v)} = (z_1^{(v)}, \\ldots, z_{T_v}^{(v)})$ denote the sequence of discrete states for the $i$-th event.\n",
    "\n",
    "The joint distribution of the complete dataset is,\n",
    "\n",
    "\\begin{align}\n",
    "p(\\{(z_{1:T_v}^{(v)}, \\mathbf{x}_{1:T_v}^{(v)}\\}_{v=1}^V \\mid \\Theta) \n",
    "&= \\prod_{v=1}^V p(z_{1:T_v}^{(v)}, \\mathbf{x}_{1:T_v}^{(v)} \\mid \\Theta) \\\\\n",
    "&= \\prod_{v=1}^V \\left[p(z_1^{(v)} \\mid \\Theta) \\prod_{t=2}^{T_v} p(z_{t}^{(v)} \\mid z_{t-1}^{(v)} , \\Theta)  \\prod_{t=1}^{T_v} p(\\mathbf{x}_{t}^{(v)} \\mid z_{t}^{(v)}, \\Theta) \\right]\n",
    "\\end{align}\n",
    "\n",
    "The goal is to find the parameters $\\Theta$ that maximize the marginal likelihood of the data by using EM. Then we'll use cross validation, holding out a random subset of events, to determine the number of discrete states. Finally, we'll visualize the inferred states in terms of the distribution over features."
   ]
  },
  {
   "cell_type": "markdown",
   "id": "4a2f3a98",
   "metadata": {},
   "source": [
    "<img src=\"../hmm.png\" width=\"400\">"
   ]
  },
  {
   "cell_type": "markdown",
   "id": "343da06d",
   "metadata": {},
   "source": [
    "\\begin{align}\n",
    "\\theta_k \\sim Dirichlet_k(\\alpha)\\\\\n",
    "z_t\\sim Discrete(\\theta_{z_{t-1}})\\\\\n",
    "\\mu_k\\sim Normal(0, \\sigma)\\\\\n",
    "y_t \\sim Poisson(\\mu_{z_t}^Tx_t)\n",
    "\\end{align}"
   ]
  },
  {
   "cell_type": "code",
   "execution_count": 1,
   "id": "4f9fdc69",
   "metadata": {},
   "outputs": [],
   "source": [
    "import sys\n",
    "sys.path.append('../')\n",
    "import seaborn as sns\n",
    "import matplotlib.pyplot as plt\n",
    "import numpy as np\n",
    "import pandas as pd\n",
    "from src.d01_data.dengue_data_api import DengueDataApi"
   ]
  },
  {
   "cell_type": "code",
   "execution_count": 4,
   "id": "9ec93119",
   "metadata": {},
   "outputs": [],
   "source": [
    "dda = DengueDataApi()\n",
    "x_train, x_validate, y_train, y_validate = dda.split_data()"
   ]
  },
  {
   "cell_type": "code",
   "execution_count": null,
   "id": "e5d74c99",
   "metadata": {},
   "outputs": [],
   "source": [
    "format_data(df):\n",
    "    df.sort_values(inplace=True)\n",
    "    datas = []\n",
    "    for city in df.index.get_level_values('city').unique():\n",
    "        for year in df.loc[city].index.get_level_values('year').unique():\n",
    "            datas.append(df.loc[city].loc[year].values)\n",
    "    return datas\n",
    "    "
   ]
  }
 ],
 "metadata": {
  "kernelspec": {
   "display_name": "dengai-env",
   "language": "python",
   "name": "dengai-env"
  },
  "language_info": {
   "codemirror_mode": {
    "name": "ipython",
    "version": 3
   },
   "file_extension": ".py",
   "mimetype": "text/x-python",
   "name": "python",
   "nbconvert_exporter": "python",
   "pygments_lexer": "ipython3",
   "version": "3.8.2"
  }
 },
 "nbformat": 4,
 "nbformat_minor": 5
}
