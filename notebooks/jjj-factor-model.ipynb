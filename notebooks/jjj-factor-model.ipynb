{
 "cells": [
  {
   "cell_type": "markdown",
   "metadata": {},
   "source": [
    "# 1. Factor model to reduce dimentionality\n",
    "\n",
    "$$\\eta_t=\\Phi \\eta_{t-1} + \\nu_t$$\n",
    "$$x_t=\\Lambda \\eta_t + \\epsilon_t$$\n",
    "\n",
    "Where $\\nu_t\\sim \\mathcal{N}_k(0,I)$ and $\\epsilon_t\\sim \\mathcal{N}_p(0, \\Sigma_0)$, with $k < p$. We can use the Kalman filter to estimate this model and fill missing values. The latent factors $\\eta_t$ are going to be used to build the predictive model.\n",
    "\n",
    "How can I add structure so that factors can represent elements of different frequency. In other words, elements that change at different paces."
   ]
  },
  {
   "cell_type": "code",
   "execution_count": null,
   "metadata": {},
   "outputs": [],
   "source": [
    "import sys\n",
    "sys.path.append('../')\n",
    "import pandas as pd\n",
    "import numpy as np\n",
    "import matplotlib.pyplot as plt\n",
    "import statsmodels.api as sm\n",
    "from src.d01_data.dengue_data_api import DengueDataApi\n",
    "from src.d00_utils.utils import variable_analysis"
   ]
  },
  {
   "cell_type": "code",
   "execution_count": null,
   "metadata": {},
   "outputs": [],
   "source": [
    "from scipy import signal\n",
    "dda = DengueDataApi(interpolate=False)\n",
    "x1, x2, y1, y2 = dda.split_data(random=False)"
   ]
  },
  {
   "cell_type": "code",
   "execution_count": null,
   "metadata": {
    "scrolled": false
   },
   "outputs": [],
   "source": [
    "from src.d04_modeling.dynamic_factor_model import DynamicFactorModel\n",
    "from collections import defaultdict\n",
    "    \n",
    "dfm_model = DynamicFactorModel(x1.copy(), y1.copy(), factors=3, factor_orders=2)\n",
    "dfm_model.fit()"
   ]
  },
  {
   "cell_type": "code",
   "execution_count": null,
   "metadata": {},
   "outputs": [],
   "source": [
    "city = 'sj'\n",
    "res_dfm = dfm_model.get_model_results(city)\n",
    "mod_dfm = dfm_model.get_model(city)"
   ]
  },
  {
   "cell_type": "code",
   "execution_count": null,
   "metadata": {
    "scrolled": false
   },
   "outputs": [],
   "source": [
    "eta_filtered = res_dfm.factors['filtered']\n",
    "eta_filtered.columns = ['eta%i' % i for i in range(3)]\n",
    "eta_filtered_cov = res_dfm.factors['filtered_cov']\n",
    "\n",
    "fig, ax = plt.subplots(figsize=(8, 6))\n",
    "for factor in eta_filtered.columns:\n",
    "    ax.plot(eta_filtered.index, eta_filtered[factor], label=factor)\n",
    "plt.show()"
   ]
  },
  {
   "cell_type": "code",
   "execution_count": null,
   "metadata": {
    "scrolled": false
   },
   "outputs": [],
   "source": [
    "for i in range(3):\n",
    "    col = eta_filtered.columns[i]\n",
    "    print(\"[eta%i] AR coefficient: %.4f\" % (i, res_dfm.params['L1.%i->%i' % (i,i)]))\n",
    "    print(variable_analysis(eta_filtered[col], col, ylim = [1e-2, 1e3]).head())"
   ]
  },
  {
   "cell_type": "code",
   "execution_count": null,
   "metadata": {},
   "outputs": [],
   "source": [
    "dfm_model.plot_prediction(x1, y1)\n",
    "dfm_model.analyze_residuals(x1, y1)\n",
    "dfm_model.insample_model_evaluation()\n",
    "dfm_model.plot_prediction(x2, y2)\n",
    "print(\"MAE DFM: %.4f\" % dfm_model.get_mae(x2, y2))"
   ]
  },
  {
   "cell_type": "code",
   "execution_count": null,
   "metadata": {
    "scrolled": false
   },
   "outputs": [],
   "source": [
    "fig, ax = plt.subplots(figsize=(8, 6))\n",
    "endog, exog = dfm_model.format_data_arimax(x2.loc[city], y2.loc[city], interpolate=False)\n",
    "endog = pd.concat([endog.to_frame(), exog], axis=1)\n",
    "res = res_dfm.extend(endog=endog)\n",
    "y_log_hat = res.predict()['total_cases']\n",
    "y_log = dfm_model.transform_endog(dfm_model.resample(y2.loc[city]))\n",
    "ax.plot(y_log_hat.index, y_log_hat, label='prediction')\n",
    "ax.plot(y_log.index, y_log, label='obs')\n",
    "plt.legend()\n",
    "plt.show()"
   ]
  },
  {
   "cell_type": "code",
   "execution_count": null,
   "metadata": {},
   "outputs": [],
   "source": [
    "fig, ax = plt.subplots(figsize=(8, 6))\n",
    "y2_nan = pd.Series(np.nan, index=x2.index, name=y2.name)\n",
    "endog, exog = dfm_model.format_data_arimax(x2.loc[city], y2_nan.loc[city], interpolate=False)\n",
    "endog = pd.concat([endog.to_frame(), exog], axis=1)\n",
    "res = res_dfm.extend(endog=endog)\n",
    "y_log_hat = res.predict()['total_cases']\n",
    "y_log = dfm_model.transform_endog(dfm_model.resample(y2.loc[city]))\n",
    "ax.plot(y_log.index, y_log, label='obs')\n",
    "ax.plot(y_log_hat.index, y_log_hat, label='prediction')\n",
    "plt.legend()\n",
    "plt.show()"
   ]
  }
 ],
 "metadata": {
  "kernelspec": {
   "display_name": "Python 3 (ipykernel)",
   "language": "python",
   "name": "python3"
  },
  "language_info": {
   "codemirror_mode": {
    "name": "ipython",
    "version": 3
   },
   "file_extension": ".py",
   "mimetype": "text/x-python",
   "name": "python",
   "nbconvert_exporter": "python",
   "pygments_lexer": "ipython3",
   "version": "3.8.2"
  }
 },
 "nbformat": 4,
 "nbformat_minor": 1
}
