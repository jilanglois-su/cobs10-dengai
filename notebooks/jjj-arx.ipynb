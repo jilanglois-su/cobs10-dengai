{
 "cells": [
  {
   "cell_type": "markdown",
   "metadata": {},
   "source": [
    "# 0. Analize simple time series models\n",
    "\n",
    "> What are simple baselines you could compare your model to? Can any univariate / vector AR models be used to achieve comparable MAE? Are there simple time series methods that you could use to quantify whether infection counts are dependent on the lagged covariates?"
   ]
  },
  {
   "cell_type": "code",
   "execution_count": null,
   "metadata": {},
   "outputs": [],
   "source": [
    "import sys\n",
    "sys.path.append('../')\n",
    "import pandas as pd\n",
    "import numpy as np\n",
    "import seaborn as sns\n",
    "import matplotlib.pyplot as plt\n",
    "import statsmodels.api as sm\n",
    "from src.d01_data.dengue_data_api import DengueDataApi"
   ]
  },
  {
   "cell_type": "code",
   "execution_count": null,
   "metadata": {},
   "outputs": [],
   "source": [
    "from scipy import signal\n",
    "dda = DengueDataApi()\n",
    "x1, x2, y1, y2 = dda.split_data(random=False)\n",
    "z1, z2, pct_var = dda.get_svd(x1, x2, num_components=5)"
   ]
  },
  {
   "cell_type": "markdown",
   "metadata": {},
   "source": [
    "## ARX\n",
    "\n",
    "For this first model we are going to use **linear interpolation** to fill in missing values. We also normalize the covariates to zero mean and unit variance."
   ]
  },
  {
   "cell_type": "code",
   "execution_count": null,
   "metadata": {
    "scrolled": false
   },
   "outputs": [],
   "source": [
    "plot_data = y1.to_frame()\n",
    "plot_data['log(y+1)'] = plot_data['total_cases'].apply(lambda x: np.log(x+1))\n",
    "fig, ax = plt.subplots(ncols=2, nrows=2, figsize=(16, 12))\n",
    "c = 0\n",
    "for city in city_arr:\n",
    "    t = plot_data.loc[city].index.get_level_values(WEEK_START_DATE_COL)\n",
    "    ax[0][c].plot(t, plot_data.loc[city]['total_cases'])\n",
    "    if c == 0:\n",
    "        ax[0][c].set_ylabel('$y_t$')\n",
    "    ax[1][c].plot(t, plot_data.loc[city]['log(y+1)'])\n",
    "    if c == 0:\n",
    "        ax[1][c].set_ylabel('$\\\\log(y_t+1)$')\n",
    "    ax[0][c].set_title(city)\n",
    "    c += 1\n",
    "plt.show()\n"
   ]
  },
  {
   "cell_type": "code",
   "execution_count": null,
   "metadata": {},
   "outputs": [],
   "source": [
    "from src.d04_modeling.arx import ARX"
   ]
  },
  {
   "cell_type": "code",
   "execution_count": null,
   "metadata": {},
   "outputs": [],
   "source": [
    "ols_model = ARX(x_train=z1, y_train=y1, p=None)\n",
    "ols_model.fit()\n",
    "ols_model.plot_prediction(z1, y1)\n",
    "ols_model.analyze_residuals(z1, y1)\n",
    "print(\"MAE OLS: %.4f\" % ols_model.get_mae(z2, y2))"
   ]
  },
  {
   "cell_type": "code",
   "execution_count": null,
   "metadata": {},
   "outputs": [],
   "source": [
    "res_ols = ols_model.get_model_results(city)\n",
    "res_ols.summary()"
   ]
  },
  {
   "cell_type": "markdown",
   "metadata": {},
   "source": [
    "### ARX(2)"
   ]
  },
  {
   "cell_type": "code",
   "execution_count": null,
   "metadata": {},
   "outputs": [],
   "source": [
    "p = 2\n",
    "arx_model = ARX(x_train=z1, y_train=y1, p=p)\n",
    "arx_model.fit()\n",
    "arx_model.plot_prediction(z1, y1)\n",
    "arx_model.analyze_residuals(z1, y1)\n",
    "print(\"MAE ARX: %.4f\" % arx_model.get_mae(z2, y2))\n",
    "arx_model.insample_model_evaluation()"
   ]
  },
  {
   "cell_type": "markdown",
   "metadata": {},
   "source": [
    "### ARX(3)"
   ]
  },
  {
   "cell_type": "code",
   "execution_count": null,
   "metadata": {},
   "outputs": [],
   "source": [
    "p = 3\n",
    "arx_model = ARX(x_train=z1, y_train=y1, p=p)\n",
    "arx_model.fit()\n",
    "arx_model.plot_prediction(z1, y1)\n",
    "arx_model.analyze_residuals(z1, y1)\n",
    "arx_model.insample_model_evaluation()"
   ]
  },
  {
   "cell_type": "markdown",
   "metadata": {},
   "source": [
    "### Prediction Error"
   ]
  },
  {
   "cell_type": "code",
   "execution_count": null,
   "metadata": {
    "scrolled": false
   },
   "outputs": [],
   "source": [
    "arx_model.plot_prediction(z2, y2)\n",
    "print(\"MAE ARX: %.4f\" % arx_model.get_mae(z2, y2))"
   ]
  },
  {
   "cell_type": "code",
   "execution_count": null,
   "metadata": {},
   "outputs": [],
   "source": [
    "city='sj'"
   ]
  },
  {
   "cell_type": "code",
   "execution_count": null,
   "metadata": {},
   "outputs": [],
   "source": [
    "res_arx = arx_model.get_model_results(city)\n",
    "endog, exog = arx_model.format_data_arimax(z2.loc[city], y2.loc[city])\n",
    "endog_nan = pd.Series(np.nan, index=endog.index, name=endog.name)\n",
    "predictions = endog_nan.copy()"
   ]
  },
  {
   "cell_type": "code",
   "execution_count": null,
   "metadata": {},
   "outputs": [],
   "source": [
    "res_arx.summary()"
   ]
  },
  {
   "cell_type": "code",
   "execution_count": null,
   "metadata": {},
   "outputs": [],
   "source": [
    "model = sm.tsa.statespace.SARIMAX(endog=endog, exog=exog, order=(p, 0, 0))\n",
    "filtered_results = model.filter(res_arx.params)\n",
    "plt.plot(endog, label='obs')\n",
    "plt.plot(filtered_results.predict(), label='prediction')\n",
    "plt.legend()\n",
    "plt.show()"
   ]
  }
 ],
 "metadata": {
  "kernelspec": {
   "display_name": "Python 3 (ipykernel)",
   "language": "python",
   "name": "python3"
  },
  "language_info": {
   "codemirror_mode": {
    "name": "ipython",
    "version": 3
   },
   "file_extension": ".py",
   "mimetype": "text/x-python",
   "name": "python",
   "nbconvert_exporter": "python",
   "pygments_lexer": "ipython3",
   "version": "3.8.2"
  }
 },
 "nbformat": 4,
 "nbformat_minor": 1
}
